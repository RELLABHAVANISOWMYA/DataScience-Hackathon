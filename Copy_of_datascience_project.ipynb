{
  "cells": [
    {
      "cell_type": "markdown",
      "metadata": {
        "id": "view-in-github",
        "colab_type": "text"
      },
      "source": [
        "<a href=\"https://colab.research.google.com/github/RELLABHAVANISOWMYA/DataScience-Hackathon/blob/main/Copy_of_datascience_project.ipynb\" target=\"_parent\"><img src=\"https://colab.research.google.com/assets/colab-badge.svg\" alt=\"Open In Colab\"/></a>"
      ]
    },
    {
      "cell_type": "code",
      "execution_count": null,
      "metadata": {
        "id": "_2IjeTbGh8K8"
      },
      "outputs": [],
      "source": []
    },
    {
      "cell_type": "code",
      "execution_count": null,
      "metadata": {
        "colab": {
          "base_uri": "https://localhost:8080/",
          "height": 304
        },
        "id": "_QedUSNliQRA",
        "outputId": "48c839c8-e332-44a3-eac3-9ac288eeb8c6"
      },
      "outputs": [
        {
          "ename": "MessageError",
          "evalue": "Error: credential propagation was unsuccessful",
          "output_type": "error",
          "traceback": [
            "\u001b[0;31m---------------------------------------------------------------------------\u001b[0m",
            "\u001b[0;31mMessageError\u001b[0m                              Traceback (most recent call last)",
            "\u001b[0;32m<ipython-input-37-d5df0069828e>\u001b[0m in \u001b[0;36m<cell line: 2>\u001b[0;34m()\u001b[0m\n\u001b[1;32m      1\u001b[0m \u001b[0;32mfrom\u001b[0m \u001b[0mgoogle\u001b[0m\u001b[0;34m.\u001b[0m\u001b[0mcolab\u001b[0m \u001b[0;32mimport\u001b[0m \u001b[0mdrive\u001b[0m\u001b[0;34m\u001b[0m\u001b[0;34m\u001b[0m\u001b[0m\n\u001b[0;32m----> 2\u001b[0;31m \u001b[0mdrive\u001b[0m\u001b[0;34m.\u001b[0m\u001b[0mmount\u001b[0m\u001b[0;34m(\u001b[0m\u001b[0;34m'/content/drive'\u001b[0m\u001b[0;34m)\u001b[0m\u001b[0;34m\u001b[0m\u001b[0;34m\u001b[0m\u001b[0m\n\u001b[0m",
            "\u001b[0;32m/usr/local/lib/python3.10/dist-packages/google/colab/drive.py\u001b[0m in \u001b[0;36mmount\u001b[0;34m(mountpoint, force_remount, timeout_ms, readonly)\u001b[0m\n\u001b[1;32m     98\u001b[0m \u001b[0;32mdef\u001b[0m \u001b[0mmount\u001b[0m\u001b[0;34m(\u001b[0m\u001b[0mmountpoint\u001b[0m\u001b[0;34m,\u001b[0m \u001b[0mforce_remount\u001b[0m\u001b[0;34m=\u001b[0m\u001b[0;32mFalse\u001b[0m\u001b[0;34m,\u001b[0m \u001b[0mtimeout_ms\u001b[0m\u001b[0;34m=\u001b[0m\u001b[0;36m120000\u001b[0m\u001b[0;34m,\u001b[0m \u001b[0mreadonly\u001b[0m\u001b[0;34m=\u001b[0m\u001b[0;32mFalse\u001b[0m\u001b[0;34m)\u001b[0m\u001b[0;34m:\u001b[0m\u001b[0;34m\u001b[0m\u001b[0;34m\u001b[0m\u001b[0m\n\u001b[1;32m     99\u001b[0m   \u001b[0;34m\"\"\"Mount your Google Drive at the specified mountpoint path.\"\"\"\u001b[0m\u001b[0;34m\u001b[0m\u001b[0;34m\u001b[0m\u001b[0m\n\u001b[0;32m--> 100\u001b[0;31m   return _mount(\n\u001b[0m\u001b[1;32m    101\u001b[0m       \u001b[0mmountpoint\u001b[0m\u001b[0;34m,\u001b[0m\u001b[0;34m\u001b[0m\u001b[0;34m\u001b[0m\u001b[0m\n\u001b[1;32m    102\u001b[0m       \u001b[0mforce_remount\u001b[0m\u001b[0;34m=\u001b[0m\u001b[0mforce_remount\u001b[0m\u001b[0;34m,\u001b[0m\u001b[0;34m\u001b[0m\u001b[0;34m\u001b[0m\u001b[0m\n",
            "\u001b[0;32m/usr/local/lib/python3.10/dist-packages/google/colab/drive.py\u001b[0m in \u001b[0;36m_mount\u001b[0;34m(mountpoint, force_remount, timeout_ms, ephemeral, readonly)\u001b[0m\n\u001b[1;32m    135\u001b[0m   )\n\u001b[1;32m    136\u001b[0m   \u001b[0;32mif\u001b[0m \u001b[0mephemeral\u001b[0m\u001b[0;34m:\u001b[0m\u001b[0;34m\u001b[0m\u001b[0;34m\u001b[0m\u001b[0m\n\u001b[0;32m--> 137\u001b[0;31m     _message.blocking_request(\n\u001b[0m\u001b[1;32m    138\u001b[0m         \u001b[0;34m'request_auth'\u001b[0m\u001b[0;34m,\u001b[0m\u001b[0;34m\u001b[0m\u001b[0;34m\u001b[0m\u001b[0m\n\u001b[1;32m    139\u001b[0m         \u001b[0mrequest\u001b[0m\u001b[0;34m=\u001b[0m\u001b[0;34m{\u001b[0m\u001b[0;34m'authType'\u001b[0m\u001b[0;34m:\u001b[0m \u001b[0;34m'dfs_ephemeral'\u001b[0m\u001b[0;34m}\u001b[0m\u001b[0;34m,\u001b[0m\u001b[0;34m\u001b[0m\u001b[0;34m\u001b[0m\u001b[0m\n",
            "\u001b[0;32m/usr/local/lib/python3.10/dist-packages/google/colab/_message.py\u001b[0m in \u001b[0;36mblocking_request\u001b[0;34m(request_type, request, timeout_sec, parent)\u001b[0m\n\u001b[1;32m    174\u001b[0m       \u001b[0mrequest_type\u001b[0m\u001b[0;34m,\u001b[0m \u001b[0mrequest\u001b[0m\u001b[0;34m,\u001b[0m \u001b[0mparent\u001b[0m\u001b[0;34m=\u001b[0m\u001b[0mparent\u001b[0m\u001b[0;34m,\u001b[0m \u001b[0mexpect_reply\u001b[0m\u001b[0;34m=\u001b[0m\u001b[0;32mTrue\u001b[0m\u001b[0;34m\u001b[0m\u001b[0;34m\u001b[0m\u001b[0m\n\u001b[1;32m    175\u001b[0m   )\n\u001b[0;32m--> 176\u001b[0;31m   \u001b[0;32mreturn\u001b[0m \u001b[0mread_reply_from_input\u001b[0m\u001b[0;34m(\u001b[0m\u001b[0mrequest_id\u001b[0m\u001b[0;34m,\u001b[0m \u001b[0mtimeout_sec\u001b[0m\u001b[0;34m)\u001b[0m\u001b[0;34m\u001b[0m\u001b[0;34m\u001b[0m\u001b[0m\n\u001b[0m",
            "\u001b[0;32m/usr/local/lib/python3.10/dist-packages/google/colab/_message.py\u001b[0m in \u001b[0;36mread_reply_from_input\u001b[0;34m(message_id, timeout_sec)\u001b[0m\n\u001b[1;32m    101\u001b[0m     ):\n\u001b[1;32m    102\u001b[0m       \u001b[0;32mif\u001b[0m \u001b[0;34m'error'\u001b[0m \u001b[0;32min\u001b[0m \u001b[0mreply\u001b[0m\u001b[0;34m:\u001b[0m\u001b[0;34m\u001b[0m\u001b[0;34m\u001b[0m\u001b[0m\n\u001b[0;32m--> 103\u001b[0;31m         \u001b[0;32mraise\u001b[0m \u001b[0mMessageError\u001b[0m\u001b[0;34m(\u001b[0m\u001b[0mreply\u001b[0m\u001b[0;34m[\u001b[0m\u001b[0;34m'error'\u001b[0m\u001b[0;34m]\u001b[0m\u001b[0;34m)\u001b[0m\u001b[0;34m\u001b[0m\u001b[0;34m\u001b[0m\u001b[0m\n\u001b[0m\u001b[1;32m    104\u001b[0m       \u001b[0;32mreturn\u001b[0m \u001b[0mreply\u001b[0m\u001b[0;34m.\u001b[0m\u001b[0mget\u001b[0m\u001b[0;34m(\u001b[0m\u001b[0;34m'data'\u001b[0m\u001b[0;34m,\u001b[0m \u001b[0;32mNone\u001b[0m\u001b[0;34m)\u001b[0m\u001b[0;34m\u001b[0m\u001b[0;34m\u001b[0m\u001b[0m\n\u001b[1;32m    105\u001b[0m \u001b[0;34m\u001b[0m\u001b[0m\n",
            "\u001b[0;31mMessageError\u001b[0m: Error: credential propagation was unsuccessful"
          ]
        }
      ],
      "source": [
        "from google.colab import drive\n",
        "drive.mount('/content/drive')"
      ]
    },
    {
      "cell_type": "markdown",
      "metadata": {
        "id": "i3zi6cK2i3wr"
      },
      "source": []
    },
    {
      "cell_type": "code",
      "execution_count": null,
      "metadata": {
        "id": "zWW4kTVik_lG"
      },
      "outputs": [],
      "source": [
        "import pandas as pd"
      ]
    },
    {
      "cell_type": "code",
      "execution_count": null,
      "metadata": {
        "id": "frWFAtfrlvQ6"
      },
      "outputs": [],
      "source": [
        "data = pd.read_csv('/13_spotify-2023.csv', encoding='ISO-8859-1')"
      ]
    },
    {
      "cell_type": "code",
      "execution_count": null,
      "metadata": {
        "colab": {
          "base_uri": "https://localhost:8080/"
        },
        "id": "e7g4tHz4rPrj",
        "outputId": "6dcd17f2-9328-43f0-993f-22bc5b36b8e2"
      },
      "outputs": [
        {
          "name": "stdout",
          "output_type": "stream",
          "text": [
            "                            track_name    artist(s)_name  artist_count  \\\n",
            "0  Seven (feat. Latto) (Explicit Ver.)  Latto, Jung Kook             2   \n",
            "1                                 LALA       Myke Towers             1   \n",
            "2                              vampire    Olivia Rodrigo             1   \n",
            "3                         Cruel Summer      Taylor Swift             1   \n",
            "4                       WHERE SHE GOES         Bad Bunny             1   \n",
            "\n",
            "   released_year  released_month  released_day  in_spotify_playlists  \\\n",
            "0           2023               7            14                   553   \n",
            "1           2023               3            23                  1474   \n",
            "2           2023               6            30                  1397   \n",
            "3           2019               8            23                  7858   \n",
            "4           2023               5            18                  3133   \n",
            "\n",
            "   in_spotify_charts    streams  in_apple_playlists  ...  bpm key   mode  \\\n",
            "0                147  141381703                  43  ...  125   B  Major   \n",
            "1                 48  133716286                  48  ...   92  C#  Major   \n",
            "2                113  140003974                  94  ...  138   F  Major   \n",
            "3                100  800840817                 116  ...  170   A  Major   \n",
            "4                 50  303236322                  84  ...  144   A  Minor   \n",
            "\n",
            "  danceability_%  valence_% energy_% acousticness_%  instrumentalness_%  \\\n",
            "0             80         89       83             31                   0   \n",
            "1             71         61       74              7                   0   \n",
            "2             51         32       53             17                   0   \n",
            "3             55         58       72             11                   0   \n",
            "4             65         23       80             14                  63   \n",
            "\n",
            "   liveness_%  speechiness_%  \n",
            "0           8              4  \n",
            "1          10              4  \n",
            "2          31              6  \n",
            "3          11             15  \n",
            "4          11              6  \n",
            "\n",
            "[5 rows x 24 columns]\n"
          ]
        }
      ],
      "source": [
        "print(data.head())"
      ]
    },
    {
      "cell_type": "code",
      "execution_count": null,
      "metadata": {
        "id": "xedQBKXnrc0W"
      },
      "outputs": [],
      "source": [
        "data.fillna(0, inplace=True)"
      ]
    },
    {
      "cell_type": "code",
      "execution_count": null,
      "metadata": {
        "id": "BR7stJsYrgsF"
      },
      "outputs": [],
      "source": [
        "data.drop_duplicates(inplace=True)"
      ]
    },
    {
      "cell_type": "code",
      "execution_count": null,
      "metadata": {
        "id": "ue1FesKWrkcC"
      },
      "outputs": [],
      "source": [
        "data['released_year'] = data['released_year'].astype(int)"
      ]
    },
    {
      "cell_type": "code",
      "execution_count": null,
      "metadata": {
        "id": "RAP82JsCrusV"
      },
      "outputs": [],
      "source": [
        "features = ['danceability_%', 'energy_%', 'acousticness_%', 'bpm']"
      ]
    },
    {
      "cell_type": "code",
      "execution_count": null,
      "metadata": {
        "id": "91lx1DNYrzQt"
      },
      "outputs": [],
      "source": [
        "data_features = data[features]"
      ]
    },
    {
      "cell_type": "code",
      "execution_count": null,
      "metadata": {
        "colab": {
          "base_uri": "https://localhost:8080/"
        },
        "id": "8j821stsr1uT",
        "outputId": "abc35577-9a6a-42ae-987c-3e610369eeb5"
      },
      "outputs": [
        {
          "output_type": "stream",
          "name": "stdout",
          "text": [
            "     danceability_%  energy_%  acousticness_%  bpm\n",
            "0                80        83              31  125\n",
            "1                71        74               7   92\n",
            "2                51        53              17  138\n",
            "3                55        72              11  170\n",
            "4                65        80              14  144\n",
            "..              ...       ...             ...  ...\n",
            "948              60        39              57  144\n",
            "949              42        24              83  166\n",
            "950              80        67               4   92\n",
            "951              82        77               8   97\n",
            "952              61        67              15   90\n",
            "\n",
            "[953 rows x 4 columns]\n"
          ]
        }
      ],
      "source": [
        "print(data_features)"
      ]
    },
    {
      "cell_type": "code",
      "execution_count": null,
      "metadata": {
        "id": "e1fZ8gq0sJDU"
      },
      "outputs": [],
      "source": [
        "from sklearn.preprocessing import StandardScaler"
      ]
    },
    {
      "cell_type": "code",
      "execution_count": null,
      "metadata": {
        "id": "pErskpRBsNht"
      },
      "outputs": [],
      "source": [
        "scaler = StandardScaler()"
      ]
    },
    {
      "cell_type": "code",
      "execution_count": null,
      "metadata": {
        "id": "QDI_wrImsSkF"
      },
      "outputs": [],
      "source": [
        "data_features_scaled = scaler.fit_transform(data_features)"
      ]
    },
    {
      "cell_type": "code",
      "execution_count": null,
      "metadata": {
        "colab": {
          "base_uri": "https://localhost:8080/"
        },
        "id": "isy6nP_vsUwn",
        "outputId": "3ccda84e-4401-4e10-89c6-d339eeece154"
      },
      "outputs": [
        {
          "output_type": "stream",
          "name": "stdout",
          "text": [
            "[[ 0.8910956   1.13172906  0.15172895  0.08770797]\n",
            " [ 0.27562395  0.58765417 -0.77197202 -1.08905306]\n",
            " [-1.09209084 -0.68185391 -0.38709661  0.55128049]\n",
            " ...\n",
            " [ 0.8910956   0.16448481 -0.88743464 -1.08905306]\n",
            " [ 1.02786708  0.76901247 -0.73348448 -0.91075594]\n",
            " [-0.40823344  0.16448481 -0.46407169 -1.16037191]]\n"
          ]
        }
      ],
      "source": [
        "print(data_features_scaled)"
      ]
    },
    {
      "cell_type": "code",
      "execution_count": null,
      "metadata": {
        "id": "HwV9lkins3wA"
      },
      "outputs": [],
      "source": [
        "from sklearn.metrics.pairwise import cosine_similarity"
      ]
    },
    {
      "cell_type": "code",
      "execution_count": null,
      "metadata": {
        "id": "HWNNZy_Xs8Gl"
      },
      "outputs": [],
      "source": [
        "cosine_sim = cosine_similarity(data_features_scaled)"
      ]
    },
    {
      "cell_type": "code",
      "execution_count": null,
      "metadata": {
        "colab": {
          "base_uri": "https://localhost:8080/"
        },
        "id": "7CD7n0ins-8m",
        "outputId": "e1556df9-be40-4dc8-be8e-a745d01e0d9c"
      },
      "outputs": [
        {
          "output_type": "stream",
          "name": "stdout",
          "text": [
            "(953, 953)\n"
          ]
        }
      ],
      "source": [
        "print(cosine_sim.shape)"
      ]
    },
    {
      "cell_type": "code",
      "execution_count": null,
      "metadata": {
        "colab": {
          "base_uri": "https://localhost:8080/"
        },
        "id": "X9tQ6ak_tx7S",
        "outputId": "34e41b84-5f8c-4109-aa0b-9731f2e5c0f7"
      },
      "outputs": [
        {
          "output_type": "stream",
          "name": "stdout",
          "text": [
            "             track_name               artist(s)_name\n",
            "348  Red Ruby Da Sleeze                  Nicki Minaj\n",
            "827             Run BTS                          BTS\n",
            "375         Besos Moja2     Wisin & Yandel, ROSALï¿½\n",
            "345    SPIT IN MY FACE!                     ThxSoMch\n",
            "398            Muï¿½ï¿½  Steve Aoki, Tini, La Joaqui\n"
          ]
        }
      ],
      "source": [
        "import pandas as pd\n",
        "from sklearn.preprocessing import StandardScaler\n",
        "from sklearn.metrics.pairwise import cosine_similarity\n",
        "\n",
        "# Load dataset\n",
        "data = pd.read_csv('/13_spotify-2023.csv', encoding='ISO-8859-1')\n",
        "\n",
        "# Preprocess data\n",
        "data.fillna(0, inplace=True)\n",
        "data.drop_duplicates(inplace=True)\n",
        "data['released_year'] = data['released_year'].astype(int)\n",
        "\n",
        "# Select relevant features\n",
        "features = ['danceability_%', 'energy_%', 'acousticness_%', 'bpm']\n",
        "data_features = data[features]\n",
        "\n",
        "# Scale the features\n",
        "scaler = StandardScaler()\n",
        "data_features_scaled = scaler.fit_transform(data_features)\n",
        "\n",
        "# Calculate cosine similarity\n",
        "cosine_sim = cosine_similarity(data_features_scaled)\n",
        "\n",
        "# Recommendation function with error handling\n",
        "def recommend_songs(track_name, data, cosine_sim, num_recommendations=5):\n",
        "    # Ensure that the track_name exists in the dataset\n",
        "    if track_name not in data['track_name'].values:\n",
        "        print(f\"Error: '{track_name}' not found in the dataset.\")\n",
        "        return None\n",
        "\n",
        "    # Create a Series to map track names to their indices\n",
        "    indices = pd.Series(data.index, index=data['track_name']).drop_duplicates()\n",
        "\n",
        "    # Get the index of the given track\n",
        "    idx = indices[track_name]\n",
        "\n",
        "    # Get similarity scores for all songs with the given track\n",
        "    sim_scores = list(enumerate(cosine_sim[idx]))\n",
        "\n",
        "    # Sort the songs based on similarity scores\n",
        "    sim_scores = sorted(sim_scores, key=lambda x: x[1], reverse=True)\n",
        "\n",
        "    # Get the scores of the most similar songs (excluding the first one, which is the song itself)\n",
        "    sim_scores = sim_scores[1:num_recommendations+1]\n",
        "\n",
        "    # Get the song indices\n",
        "    song_indices = [i[0] for i in sim_scores]\n",
        "\n",
        "    # Return the top n most similar songs\n",
        "    return data[['track_name', 'artist(s)_name']].iloc[song_indices]\n",
        "\n",
        "# Test recommendation\n",
        "track_name = 'LALA'  # Replace this with a track that exists in your dataset\n",
        "recommended_songs = recommend_songs(track_name, data, cosine_sim, num_recommendations=5)\n",
        "\n",
        "if recommended_songs is not None:\n",
        "    print(recommended_songs)\n"
      ]
    },
    {
      "cell_type": "code",
      "execution_count": null,
      "metadata": {
        "colab": {
          "background_save": true,
          "base_uri": "https://localhost:8080/"
        },
        "id": "F3e9TRkE1z3o",
        "outputId": "bda075de-661b-44c0-dd59-9b82e32d7949"
      },
      "outputs": [
        {
          "metadata": {
            "tags": null
          },
          "name": "stdout",
          "output_type": "stream",
          "text": [
            "Would you like to get song recommendations based on:\n",
            "1. Track Name\n",
            "2. Artist Name\n"
          ]
        }
      ],
      "source": [
        "import pandas as pd\n",
        "from sklearn.preprocessing import StandardScaler\n",
        "from sklearn.metrics.pairwise import cosine_similarity\n",
        "\n",
        "# Load dataset\n",
        "data = pd.read_csv('/13_spotify-2023.csv', encoding='ISO-8859-1')\n",
        "\n",
        "# Preprocess data\n",
        "data.fillna(0, inplace=True)\n",
        "data.drop_duplicates(inplace=True)\n",
        "data['released_year'] = data['released_year'].astype(int)\n",
        "\n",
        "# Select relevant features for cosine similarity\n",
        "features = ['danceability_%', 'energy_%', 'acousticness_%', 'bpm']\n",
        "data_features = data[features]\n",
        "\n",
        "# Scale the features\n",
        "scaler = StandardScaler()\n",
        "data_features_scaled = scaler.fit_transform(data_features)\n",
        "\n",
        "# Calculate cosine similarity\n",
        "cosine_sim = cosine_similarity(data_features_scaled)\n",
        "\n",
        "# Recommendation function based on track name\n",
        "def recommend_songs_by_track(track_name, data, cosine_sim, num_recommendations=5):\n",
        "    # Ensure that the track exists in the dataset\n",
        "    if track_name not in data['track_name'].values:\n",
        "        print(f\"Error: '{track_name}' not found in the dataset.\")\n",
        "        return None\n",
        "\n",
        "    # Create a Series to map track names to their indices\n",
        "    indices = pd.Series(data.index, index=data['track_name']).drop_duplicates()\n",
        "\n",
        "    # Get the index of the given track\n",
        "    idx = indices[track_name]\n",
        "\n",
        "    # Get similarity scores for all songs\n",
        "    sim_scores = list(enumerate(cosine_sim[idx]))\n",
        "\n",
        "    # Sort the songs based on similarity scores\n",
        "    sim_scores = sorted(sim_scores, key=lambda x: x[1], reverse=True)\n",
        "\n",
        "    # Get the scores of the most similar songs (excluding the first one, which is the song itself)\n",
        "    sim_scores = sim_scores[1:num_recommendations+1]\n",
        "\n",
        "    # Get the song indices\n",
        "    song_indices = [i[0] for i in sim_scores]\n",
        "\n",
        "    # Return the top n most similar songs\n",
        "    return data[['track_name', 'artist(s)_name']].iloc[song_indices]\n",
        "\n",
        "# Recommendation function based on artist name\n",
        "def recommend_songs_by_artist(track_name, artist_name, data, cosine_sim, num_recommendations=5):\n",
        "    # Ensure that the track and artist exist in the dataset\n",
        "    track_exists = data[(data['track_name'] == track_name) & (data['artist(s)_name'] == artist_name)]\n",
        "\n",
        "    if track_exists.empty:\n",
        "        print(f\"Error: '{track_name}' by '{artist_name}' not found in the dataset.\")\n",
        "        return None\n",
        "\n",
        "    # Create a Series to map track names and artists to their indices\n",
        "    indices = pd.Series(data.index, index=[(data['track_name'], data['artist(s)_name'])]).drop_duplicates()\n",
        "\n",
        "    # Get the index of the given track and artist\n",
        "    idx = indices[(track_name, artist_name)]\n",
        "\n",
        "    # Get similarity scores for all songs\n",
        "    sim_scores = list(enumerate(cosine_sim[idx]))\n",
        "\n",
        "    # Sort the songs based on similarity scores\n",
        "    sim_scores = sorted(sim_scores, key=lambda x: x[1], reverse=True)\n",
        "\n",
        "    # Get the scores of the most similar songs (excluding the first one, which is the song itself)\n",
        "    sim_scores = sim_scores[1:num_recommendations+1]\n",
        "\n",
        "    # Get the song indices\n",
        "    song_indices = [i[0] for i in sim_scores]\n",
        "\n",
        "    # Extract recommended songs and artists\n",
        "    recommended = data[['track_name', 'artist(s)_name']].iloc[song_indices]\n",
        "\n",
        "    # Optional: prioritize recommendations from the same artist\n",
        "    same_artist_recommendations = recommended[recommended['artist(s)_name'] == artist_name]\n",
        "\n",
        "    if not same_artist_recommendations.empty:\n",
        "        print(f\"Recommended songs from '{artist_name}':\")\n",
        "        print(same_artist_recommendations)\n",
        "    else:\n",
        "        print(f\"No similar songs found from '{artist_name}'.\")\n",
        "\n",
        "    # Return the top n most similar songs from other artists as well\n",
        "    return recommended\n",
        "\n",
        "# Ask the user for their preference\n",
        "print(\"Would you like to get song recommendations based on:\")\n",
        "print(\"1. Track Name\")\n",
        "print(\"2. Artist Name\")\n",
        "\n",
        "choice = input(\"Enter 1 or 2: \")\n",
        "\n",
        "if choice == '1':\n",
        "    # Get track name input from the user\n",
        "    track_name = input(\"Enter the track name: \")\n",
        "    recommended_songs = recommend_songs_by_track(track_name, data, cosine_sim, num_recommendations=5)\n",
        "\n",
        "    if recommended_songs is not None:\n",
        "        print(\"\\nRecommended songs based on track name:\")\n",
        "        print(recommended_songs)\n",
        "\n",
        "elif choice == '2':\n",
        "    # Get track name and artist name input from the user\n",
        "    track_name = input(\"Enter the track name: \")\n",
        "    artist_name = input(\"Enter the artist name: \")\n",
        "\n",
        "    recommended_songs = recommend_songs_by_artist(track_name, artist_name, data, cosine_sim, num_recommendations=5)\n",
        "\n",
        "    if recommended_songs is not None:\n",
        "        print(\"\\nRecommended songs based on artist name:\")\n",
        "        print(recommended_songs)\n",
        "\n",
        "else:\n",
        "    print(\"Invalid choice! Please enter 1 or 2.\")\n"
      ]
    },
    {
      "cell_type": "code",
      "execution_count": null,
      "metadata": {
        "id": "ZBywLWW1FcJ5"
      },
      "outputs": [],
      "source": [
        "import pandas as pd\n",
        "from sklearn.linear_model import LinearRegression\n",
        "from sklearn.preprocessing import StandardScaler\n",
        "from sklearn.metrics.pairwise import cosine_similarity\n",
        "import numpy as np"
      ]
    },
    {
      "cell_type": "code",
      "execution_count": null,
      "metadata": {
        "id": "dh7UnUjCFwMo"
      },
      "outputs": [],
      "source": [
        "data = pd.read_csv('/13_spotify-2023.csv', encoding='ISO-8859-1')"
      ]
    },
    {
      "cell_type": "code",
      "execution_count": null,
      "metadata": {
        "id": "nkjLfF2fF0M8"
      },
      "outputs": [],
      "source": [
        "# Preprocess data\n",
        "data.fillna(0, inplace=True)\n",
        "data.drop_duplicates(inplace=True)\n",
        "data['released_year'] = data['released_year'].astype(int)"
      ]
    },
    {
      "cell_type": "code",
      "execution_count": null,
      "metadata": {
        "colab": {
          "base_uri": "https://localhost:8080/"
        },
        "id": "1Km7F1HwIPxq",
        "outputId": "e36559dd-9b23-47e6-e903-691e3235f4d8"
      },
      "outputs": [
        {
          "name": "stdout",
          "output_type": "stream",
          "text": [
            "Song with highest total streams on Spotify:\n",
            "track_name                      Love Grows (Where My Rosemary Goes)\n",
            "artist(s)_name                                    Edison Lighthouse\n",
            "streams           BPM110KeyAModeMajorDanceability53Valence75Ener...\n",
            "Name: 574, dtype: object\n"
          ]
        }
      ],
      "source": [
        "# 1. Find the song with the highest total streams on Spotify.\n",
        "def highest_total_streams(data):\n",
        "    max_streams_row = data.loc[data['streams'].idxmax()]  # Use 'streams' instead of 'streams_spotify'\n",
        "    return max_streams_row[['track_name', 'artist(s)_name', 'streams']]\n",
        "\n",
        "# Get and print the song with the highest streams\n",
        "print(\"Song with highest total streams on Spotify:\")\n",
        "print(highest_total_streams(data))"
      ]
    },
    {
      "cell_type": "code",
      "execution_count": null,
      "metadata": {
        "colab": {
          "base_uri": "https://localhost:8080/"
        },
        "id": "VXtSMThsfQG2",
        "outputId": "a59d7071-29cc-44d4-94d2-e280d1215747"
      },
      "outputs": [
        {
          "name": "stdout",
          "output_type": "stream",
          "text": [
            "Song ranked highest across platforms:\n",
            "track_name        Peaches (from The Super Mario Bros. Movie)\n",
            "artist(s)_name                                    Jack Black\n",
            "average_rank                                             0.0\n",
            "Name: 327, dtype: object\n"
          ]
        }
      ],
      "source": [
        "import pandas as pd\n",
        "\n",
        "def highest_rank_across_platforms(data):\n",
        "    # Convert rank columns to numeric, forcing errors to NaN\n",
        "    rank_columns = ['in_spotify_charts', 'in_apple_charts', 'in_deezer_charts', 'in_shazam_charts']\n",
        "    data[rank_columns] = data[rank_columns].apply(pd.to_numeric, errors='coerce')\n",
        "\n",
        "    # Optionally fill NaN values with a high number (e.g., max possible rank + 1)\n",
        "    data[rank_columns] = data[rank_columns].fillna(1000)\n",
        "\n",
        "    # Calculate the average rank (lower is better)\n",
        "    data['average_rank'] = data[rank_columns].mean(axis=1)\n",
        "\n",
        "    # Find the song with the minimum average rank\n",
        "    max_rank_row = data.loc[data['average_rank'].idxmin()]  # Lower rank is better\n",
        "    return max_rank_row[['track_name', 'artist(s)_name', 'average_rank']]\n",
        "\n",
        "# Assuming you have already loaded your data\n",
        "# data = pd.read_csv('your_data_file.csv')\n",
        "\n",
        "# Example usage\n",
        "print(\"Song ranked highest across platforms:\")\n",
        "print(highest_rank_across_platforms(data))\n"
      ]
    },
    {
      "cell_type": "code",
      "execution_count": null,
      "metadata": {
        "id": "_Z43hZfQKXbN"
      },
      "outputs": [],
      "source": [
        "from sklearn.linear_model import LinearRegression\n",
        "from sklearn.model_selection import train_test_split\n",
        "import numpy as np\n",
        "\n",
        "# 3. Linear regression to predict energy based on bpm and other features\n",
        "def predict_energy_from_bpm(data, bpm_value=None):\n",
        "    # Include more features to improve prediction\n",
        "    X = data[['bpm', 'danceability_%', 'valence_%']]  # Add more independent variables\n",
        "    y = data['energy_%']  # Dependent variable: Energy level\n",
        "\n",
        "    # Split data into training and testing sets\n",
        "    X_train, X_test, y_train, y_test = train_test_split(X, y, test_size=0.2, random_state=42)\n",
        "\n",
        "    # Train the model\n",
        "    model = LinearRegression()\n",
        "    model.fit(X_train, y_train)\n",
        "\n",
        "    # If user provides a bpm_value, use it to predict energy\n",
        "    if bpm_value is not None:\n",
        "        # Provide other features manually as well (danceability and valence)\n",
        "        bpm_value = np.array([[bpm_value, 70, 50]])  # Manually set these values\n",
        "        predicted_energy = model.predict(bpm_value)\n",
        "        print(f\"Predicted energy for BPM {bpm_value[0][0]}: {predicted_energy[0]}\")\n",
        "    else:\n",
        "        # Test the model on the test set\n",
        "        y_pred = model.predict(X_test)\n",
        "        print(\"Model tested on test set\")\n",
        "\n",
        "# Call the function\n",
        "predict_energy_from_bpm(data, bpm_value=120);\n"
      ]
    },
    {
      "cell_type": "code",
      "execution_count": null,
      "metadata": {
        "colab": {
          "base_uri": "https://localhost:8080/"
        },
        "id": "s8CKWTXPQ2aA",
        "outputId": "270d5978-3ad1-4a58-ab5c-361caff9e979"
      },
      "outputs": [
        {
          "name": "stdout",
          "output_type": "stream",
          "text": [
            "Coefficients: [0.42620711 0.53878376]\n",
            "Intercept: -11.469776357109758\n",
            "Predicted valence: -25.381756116815232, Mood: sad\n"
          ]
        },
        {
          "name": "stderr",
          "output_type": "stream",
          "text": [
            "/usr/local/lib/python3.10/dist-packages/sklearn/base.py:493: UserWarning: X does not have valid feature names, but LinearRegression was fitted with feature names\n",
            "  warnings.warn(\n"
          ]
        }
      ],
      "source": [
        "from sklearn.linear_model import LinearRegression\n",
        "from sklearn.model_selection import train_test_split\n",
        "import numpy as np\n",
        "\n",
        "# 4. Linear regression to predict valence based on energy and danceability\n",
        "def predict_valence_from_energy_and_danceability(data, energy=None, danceability=None):\n",
        "    X = data[['energy_%', 'danceability_%']]  # Independent variables: Energy and Danceability\n",
        "    y = data['valence_%']  # Dependent variable: Valence\n",
        "\n",
        "    # Split data into training and testing sets\n",
        "    X_train, X_test, y_train, y_test = train_test_split(X, y, test_size=0.2, random_state=42)\n",
        "\n",
        "    # Train the model\n",
        "    model = LinearRegression()\n",
        "    model.fit(X_train, y_train)\n",
        "\n",
        "    # Print the coefficients and intercept\n",
        "    print(f\"Coefficients: {model.coef_}\")\n",
        "    print(f\"Intercept: {model.intercept_}\")\n",
        "\n",
        "    # If user provides energy and danceability, use them to predict valence\n",
        "    if energy is not None and danceability is not None:\n",
        "        input_features = np.array([[energy, danceability]])  # Create a 2D array for input\n",
        "        predicted_valence = model.predict(input_features)\n",
        "\n",
        "        # Determine mood based on valence\n",
        "        mood = \"happy\" if predicted_valence[0] > 0.5 else \"sad\"  # Assuming 0.5 is the threshold for happiness\n",
        "        print(f\"Predicted valence: {predicted_valence[0]}, Mood: {mood}\")\n",
        "    else:\n",
        "        # Test the model on the test set\n",
        "        y_pred = model.predict(X_test)\n",
        "        print(\"Model tested on test set\")\n",
        "\n",
        "# Call the function with manual inputs for energy and danceability\n",
        "predict_valence_from_energy_and_danceability(data, energy=-20, danceability=-10)\n"
      ]
    },
    {
      "cell_type": "code",
      "execution_count": null,
      "metadata": {
        "colab": {
          "base_uri": "https://localhost:8080/"
        },
        "id": "30_E_CirYN9q",
        "outputId": "833b4356-d4ae-481b-f766-eca9d9350f96"
      },
      "outputs": [
        {
          "name": "stdout",
          "output_type": "stream",
          "text": [
            "Artist impact on success:\n",
            "                                                    count          mean\n",
            "artist(s)_name                                                         \n",
            "Tones and I                                             1  2.864792e+09\n",
            "Post Malone, Swae Lee                                   1  2.808097e+09\n",
            "Drake, WizKid, Kyla                                     1  2.713922e+09\n",
            "Justin Bieber, The Kid Laroi                            1  2.665344e+09\n",
            "The Chainsmokers, Halsey                                1  2.591224e+09\n",
            "...                                                   ...           ...\n",
            "Offset, JID                                             1  2.497565e+07\n",
            "Mc Pedrinho, DJ 900                                     1  1.195664e+07\n",
            "Sog, Ryan Castro, Peso Pluma                            1  1.159939e+07\n",
            "Arijit Singh, Vishal Dadlani, Sukriti Kakar, Vi...      1  1.365184e+06\n",
            "Carin Leon, Grupo Frontera                              1  2.762000e+03\n",
            "\n",
            "[644 rows x 2 columns]\n"
          ]
        }
      ],
      "source": [
        "import pandas as pd\n",
        "\n",
        "def artist_impact_on_success(data):\n",
        "    # Ensure the streams column is numeric\n",
        "    data['streams'] = pd.to_numeric(data['streams'], errors='coerce')\n",
        "\n",
        "    # Drop rows where streams are NaN (if necessary)\n",
        "    data = data.dropna(subset=['streams'])\n",
        "\n",
        "    # Group by artist and calculate average streams\n",
        "    artist_group = data.groupby('artist(s)_name')['streams'].agg(['count', 'mean']).sort_values(by='mean', ascending=False)\n",
        "\n",
        "    return artist_group\n",
        "\n",
        "# Assuming 'data' is your DataFrame\n",
        "artist_impact = artist_impact_on_success(data)\n",
        "\n",
        "print(\"Artist impact on success:\")\n",
        "print(artist_impact)\n"
      ]
    },
    {
      "cell_type": "code",
      "execution_count": null,
      "metadata": {
        "colab": {
          "base_uri": "https://localhost:8080/",
          "height": 564
        },
        "id": "v0vnSRdyaHao",
        "outputId": "9147c468-d180-4c13-fa81-48d0cb52bae6"
      },
      "outputs": [
        {
          "data": {
            "image/png": "[encoded data removed]",
            "text/plain": [
              "<Figure size 1000x600 with 1 Axes>"
            ]
          },
          "metadata": {},
          "output_type": "display_data"
        }
      ],
      "source": [
        "import matplotlib.pyplot as plt\n",
        "\n",
        "# 6. Temporal trends: Shifts in music attributes over time\n",
        "def temporal_trends(data):\n",
        "    yearly_data = data.groupby('released_year')[['danceability_%', 'energy_%', 'valence_%']].mean()\n",
        "\n",
        "    # Plot trends over time\n",
        "    plt.figure(figsize=(10, 6))\n",
        "    plt.plot(yearly_data.index, yearly_data['danceability_%'], label='Danceability')\n",
        "    plt.plot(yearly_data.index, yearly_data['energy_%'], label='Energy')\n",
        "    plt.plot(yearly_data.index, yearly_data['valence_%'], label='Valence')\n",
        "\n",
        "    plt.title('Temporal Trends in Music Attributes (Yearly Averages)')\n",
        "    plt.xlabel('Year')\n",
        "    plt.ylabel('Average %')\n",
        "    plt.legend()\n",
        "    plt.show()\n",
        "\n",
        "temporal_trends(data)\n"
      ]
    },
    {
      "cell_type": "code",
      "execution_count": null,
      "metadata": {
        "colab": {
          "base_uri": "https://localhost:8080/"
        },
        "id": "CD7BgQ5pacRn",
        "outputId": "fc81351e-bdb6-4c7d-bc9b-86c2906c7150"
      },
      "outputs": [
        {
          "name": "stdout",
          "output_type": "stream",
          "text": [
            "Cross-platform performance correlation:\n",
            "                   in_spotify_charts  in_apple_charts  in_deezer_charts  \\\n",
            "in_spotify_charts           1.000000         0.552232          0.600205   \n",
            "in_apple_charts             0.552232         1.000000          0.383668   \n",
            "in_deezer_charts            0.600205         0.383668          1.000000   \n",
            "in_shazam_charts            0.577374         0.409845          0.396357   \n",
            "\n",
            "                   in_shazam_charts  \n",
            "in_spotify_charts          0.577374  \n",
            "in_apple_charts            0.409845  \n",
            "in_deezer_charts           0.396357  \n",
            "in_shazam_charts           1.000000  \n"
          ]
        }
      ],
      "source": [
        "# 7. Cross-platform presence: Investigate how songs perform across streaming services\n",
        "def cross_platform_performance(data):\n",
        "    # Correlation between rankings on different platforms\n",
        "    correlation = data[['in_spotify_charts', 'in_apple_charts', 'in_deezer_charts', 'in_shazam_charts']].corr()\n",
        "    return correlation\n",
        "\n",
        "print(\"Cross-platform performance correlation:\")\n",
        "print(cross_platform_performance(data))\n"
      ]
    },
    {
      "cell_type": "code",
      "execution_count": null,
      "metadata": {
        "colab": {
          "base_uri": "https://localhost:8080/"
        },
        "id": "N6QYWcidall1",
        "outputId": "90641ea0-fc02-41a9-a22a-6a71714e9541"
      },
      "outputs": [
        {
          "name": "stdout",
          "output_type": "stream",
          "text": [
            "Top 10 artists with the most hits in 2023:\n",
            "artist(s)_name\n",
            "Morgan Wallen                      8\n",
            "Taylor Swift                       6\n",
            "Jimin                              3\n",
            "Karol G                            3\n",
            "NewJeans                           3\n",
            "Mambo Kingz, DJ Luian, Anuel Aa    2\n",
            "Jasiel Nuï¿½ï¿½ez, Peso P          2\n",
            "Fuerza Regida                      2\n",
            "Fifty Fifty                        2\n",
            "Junior H, Peso Pluma               2\n",
            "Name: count, dtype: int64\n"
          ]
        }
      ],
      "source": [
        "# 8. Top 10 artists with most hits in 2023\n",
        "def top_artists_2023(data):\n",
        "    data_2023 = data[data['released_year'] == 2023]  # Filter for 2023\n",
        "    top_artists = data_2023['artist(s)_name'].value_counts().head(10)  # Count number of songs per artist\n",
        "    return top_artists\n",
        "\n",
        "print(\"Top 10 artists with the most hits in 2023:\")\n",
        "print(top_artists_2023(data))\n"
      ]
    },
    {
      "cell_type": "code",
      "execution_count": null,
      "metadata": {
        "colab": {
          "base_uri": "https://localhost:8080/"
        },
        "id": "HNVUbFzybHEa",
        "outputId": "5f955c81-7661-4a0b-be10-ebb672c860d0"
      },
      "outputs": [
        {
          "name": "stdout",
          "output_type": "stream",
          "text": [
            "Feature correlations:\n",
            "                danceability_%  energy_%  acousticness_%  valence_%       bpm\n",
            "danceability_%        1.000000  0.198095       -0.236165   0.408451 -0.147095\n",
            "energy_%              0.198095  1.000000       -0.577344   0.357612  0.025794\n",
            "acousticness_%       -0.236165 -0.577344        1.000000  -0.081907 -0.017694\n",
            "valence_%             0.408451  0.357612       -0.081907   1.000000  0.041195\n",
            "bpm                  -0.147095  0.025794       -0.017694   0.041195  1.000000\n"
          ]
        }
      ],
      "source": [
        "# 9. Identify highly correlated features\n",
        "def feature_correlations(data):\n",
        "    features = ['danceability_%', 'energy_%', 'acousticness_%', 'valence_%', 'bpm']\n",
        "    correlation_matrix = data[features].corr()\n",
        "    return correlation_matrix\n",
        "\n",
        "print(\"Feature correlations:\")\n",
        "print(feature_correlations(data))\n"
      ]
    },
    {
      "cell_type": "code",
      "execution_count": null,
      "metadata": {
        "colab": {
          "base_uri": "https://localhost:8080/"
        },
        "id": "Nij2SnibbM5O",
        "outputId": "05c21aa7-24fa-4613-8d5c-96ca853dd6eb"
      },
      "outputs": [
        {
          "name": "stdout",
          "output_type": "stream",
          "text": [
            "Attributes performance analysis:\n",
            "     danceability_%  energy_%  valence_%       streams\n",
            "0                23        25         19  3.955914e+08\n",
            "1                24        60         76  6.638321e+08\n",
            "2                25        30         17  2.973290e+08\n",
            "3                27        49         10  5.393353e+07\n",
            "4                28        20         26  1.219132e+08\n",
            "..              ...       ...        ...           ...\n",
            "945              95        57         83  1.761039e+08\n",
            "946              95        66         78  1.424590e+09\n",
            "947              95        69         43  2.943521e+08\n",
            "948              95        89         91  4.286857e+08\n",
            "949              96        42         71  2.612865e+08\n",
            "\n",
            "[950 rows x 4 columns]\n"
          ]
        }
      ],
      "source": [
        "import pandas as pd\n",
        "\n",
        "# Assuming 'data' is your DataFrame\n",
        "def attributes_performance_analysis(data):\n",
        "    # Analyze performance based on danceability, energy, and valence\n",
        "    performance_analysis = data[['danceability_%', 'energy_%', 'valence_%', 'streams']].groupby(\n",
        "        ['danceability_%', 'energy_%', 'valence_%']).mean().reset_index()\n",
        "\n",
        "    return performance_analysis\n",
        "\n",
        "print(\"Attributes performance analysis:\")\n",
        "print(attributes_performance_analysis(data))\n"
      ]
    }
  ],
  "metadata": {
    "colab": {
      "provenance": [],
      "include_colab_link": true
    },
    "kernelspec": {
      "display_name": "Python 3",
      "name": "python3"
    },
    "language_info": {
      "name": "python"
    }
  },
  "nbformat": 4,
  "nbformat_minor": 0
}